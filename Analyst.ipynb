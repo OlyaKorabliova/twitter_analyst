{
 "cells": [
  {
   "cell_type": "code",
   "execution_count": 1,
   "metadata": {
    "collapsed": true
   },
   "outputs": [],
   "source": [
    "import os\n",
    "import copy\n",
    "import nltk\n",
    "import random\n",
    "import pickle, json\n",
    "from sklearn import svm\n",
    "from sklearn.naive_bayes import MultinomialNB\n",
    "from sklearn.feature_extraction.text import TfidfVectorizer\n",
    "from sklearn.metrics import accuracy_score\n",
    "from stop_words import get_stop_words\n",
    "from nltk.tokenize import TweetTokenizer\n",
    "import re\n",
    "\n",
    "from ukrainian_stemmer import UkrainianStemmer"
   ]
  },
  {
   "cell_type": "code",
   "execution_count": 2,
   "metadata": {
    "collapsed": true
   },
   "outputs": [],
   "source": [
    "stemmer = UkrainianStemmer()\n",
    "all_stopwords = []\n",
    "all_stopwords.extend(get_stop_words(\"ukrainian\"))\n",
    "all_stopwords.extend(get_stop_words(\"english\"))\n",
    "all_stopwords.extend(get_stop_words(\"russian\"))"
   ]
  },
  {
   "cell_type": "code",
   "execution_count": 3,
   "metadata": {
    "collapsed": false
   },
   "outputs": [
    {
     "name": "stdout",
     "output_type": "stream",
     "text": [
      "{'Олег Ляшко': 'dataOVLiashkoEXT.json', 'Михайло Ткач': 'dataMychailoTkachEXT.json', 'Петро Порошенко': 'dataPetroPoroshenko.json', 'Роман Скрипін': 'dataSkrypinEXT.json', 'Павло Шеремета': 'dataSheremetaEXT.json', 'Михайло Саакашвілі': 'dataSaakashviliEXT.json', 'Майкл Щур': 'dataMichaelSchur.json'}\n"
     ]
    }
   ],
   "source": [
    "categories = dict()\n",
    "with open(\"untitled.txt\", 'r', encoding='utf-8') as f:\n",
    "    for i in f.readlines():\n",
    "        if \" = \" in i:\n",
    "            tup = i.strip().split(\" = \")\n",
    "            categories[tup[0]] = tup[1]\n",
    "print(categories)            "
   ]
  },
  {
   "cell_type": "code",
   "execution_count": 4,
   "metadata": {
    "collapsed": false
   },
   "outputs": [],
   "source": [
    "def preprocess(file):\n",
    "    cur_tweets = file.split('\"][\"')\n",
    "    for i in range(len(cur_tweets)):\n",
    "#         print(cur_tweets[i])\n",
    "        # З Прем'єр-міністром Баварії Хорстом Зеєхофером говорили про збереження санкційного тиску на Москву https://t.co/r0RlPemAUH\n",
    "        cur_tweets[i] = cur_tweets[i].replace(\"\\\\n\", \"\").replace(\"'\",\"\").lower()\n",
    "        links = re.findall('http[s]?://(?:[a-zA-Z]|[0-9]|[$-_@.&+]|[!*\\(\\),]|(?:%[0-9a-fA-F][0-9a-fA-F]))+', cur_tweets[i])\n",
    "        for link in links:\n",
    "            cur_tweets[i] = cur_tweets[i].replace(link, \"\")\n",
    "        cur_tweets[i] = ''.join([k for k in cur_tweets[i] if not k.isdigit()])\n",
    "        tokenizer = TweetTokenizer(strip_handles=True, reduce_len=True) \n",
    "        tokens = tokenizer.tokenize(cur_tweets[i])\n",
    "#         print(tokens)\n",
    "        for t in range(len(tokens)):\n",
    "            tokens[t] = stemmer.stem_word(tokens[t])\n",
    "        cur_tweets[i] = \" \".join([w for w in tokens if w not in all_stopwords])\n",
    "#         print(\"--\", cur_tweets[i])\n",
    "        # премєр-міністром баварії хорстом зеєхофером говорили збереження санкційного тиску москву\n",
    "\n",
    "    return cur_tweets\n"
   ]
  },
  {
   "cell_type": "code",
   "execution_count": 5,
   "metadata": {
    "collapsed": false
   },
   "outputs": [],
   "source": [
    "def read_all_files(src):  # src - dict()\n",
    "    docs, labels = [], []\n",
    "    for k, v in src.items():\n",
    "        with open(\"JSONs/\" + v, 'r', encoding='utf-8') as tweets:\n",
    "            docs.append(preprocess(tweets.read()[2:]))\n",
    "            labels.append(k)\n",
    "    return docs, labels"
   ]
  },
  {
   "cell_type": "code",
   "execution_count": 6,
   "metadata": {
    "collapsed": false
   },
   "outputs": [],
   "source": [
    "all_tweets, all_labels = read_all_files(categories)"
   ]
  },
  {
   "cell_type": "markdown",
   "metadata": {
    "collapsed": false
   },
   "source": [
    "print(len(all_tweets))"
   ]
  },
  {
   "cell_type": "markdown",
   "metadata": {
    "collapsed": false
   },
   "source": [
    "print(all_tweets[:3])"
   ]
  },
  {
   "cell_type": "code",
   "execution_count": 7,
   "metadata": {
    "collapsed": false
   },
   "outputs": [],
   "source": [
    "ind = 0\n",
    "all_tr_tuples, all_te_tuples = [], []\n",
    "for tweets in all_tweets:      # e.g. 1000 tweets in each label\n",
    "    test_size = int(0.4 * len(tweets)) #  then 400 tweets for the test set\n",
    "    train_size = len(tweets) - test_size   # 600 tweets for the train set\n",
    "    tr_d = [tweets[i] for i in range(train_size)]  # 0-399\n",
    "    te_d = [tweets[i] for i in range(train_size, train_size + test_size)]  # 400-999   \n",
    "    \n",
    "    for i in tr_d:\n",
    "        all_tr_tuples.append((all_labels[ind], i)) \n",
    "    for i in te_d:\n",
    "        all_te_tuples.append((all_labels[ind], i)) \n",
    "        \n",
    "    ind += 1"
   ]
  },
  {
   "cell_type": "code",
   "execution_count": 8,
   "metadata": {
    "collapsed": false
   },
   "outputs": [],
   "source": [
    "shuffled_tr = all_tr_tuples\n",
    "shuffled_te = all_te_tuples\n",
    "random.shuffle(shuffled_tr)\n",
    "random.shuffle(shuffled_te)"
   ]
  },
  {
   "cell_type": "code",
   "execution_count": 9,
   "metadata": {
    "collapsed": false
   },
   "outputs": [],
   "source": [
    "train_data, test_data = [], []\n",
    "train_labels, test_labels = [], []\n",
    "for i in shuffled_tr:\n",
    "    train_data.append(i[1])\n",
    "    train_labels.append(i[0])\n",
    "\n",
    "for i in shuffled_te:\n",
    "    test_data.append(i[1])\n",
    "    test_labels.append(i[0])\n"
   ]
  },
  {
   "cell_type": "code",
   "execution_count": 10,
   "metadata": {
    "collapsed": false
   },
   "outputs": [],
   "source": [
    "vect = TfidfVectorizer(max_features=200, max_df=0.7, analyzer=\"word\").fit(train_data)"
   ]
  },
  {
   "cell_type": "code",
   "execution_count": 11,
   "metadata": {
    "collapsed": true
   },
   "outputs": [],
   "source": [
    "train_set = [vect.transform([\" \".join(text.split())]).toarray()[0] for text in train_data]"
   ]
  },
  {
   "cell_type": "code",
   "execution_count": 12,
   "metadata": {
    "collapsed": false
   },
   "outputs": [],
   "source": [
    "test_set = [vect.transform([\" \".join(text.split())]).toarray()[0] for text in test_data]"
   ]
  },
  {
   "cell_type": "markdown",
   "metadata": {},
   "source": [
    "### Multinomial Naive Bayes"
   ]
  },
  {
   "cell_type": "code",
   "execution_count": 13,
   "metadata": {
    "collapsed": true
   },
   "outputs": [],
   "source": [
    "clf_MNB = MultinomialNB()"
   ]
  },
  {
   "cell_type": "code",
   "execution_count": 14,
   "metadata": {
    "collapsed": false
   },
   "outputs": [
    {
     "data": {
      "text/plain": [
       "MultinomialNB(alpha=1.0, class_prior=None, fit_prior=True)"
      ]
     },
     "execution_count": 14,
     "metadata": {},
     "output_type": "execute_result"
    }
   ],
   "source": [
    "clf_MNB.fit(train_set, train_labels)"
   ]
  },
  {
   "cell_type": "code",
   "execution_count": 15,
   "metadata": {
    "collapsed": false
   },
   "outputs": [
    {
     "data": {
      "text/plain": [
       "0.49512323020450971"
      ]
     },
     "execution_count": 15,
     "metadata": {},
     "output_type": "execute_result"
    }
   ],
   "source": [
    "clf_MNB.score(train_set, train_labels)"
   ]
  },
  {
   "cell_type": "code",
   "execution_count": 16,
   "metadata": {
    "collapsed": false
   },
   "outputs": [
    {
     "name": "stdout",
     "output_type": "stream",
     "text": [
      "['Майкл Щур' 'Олег Ляшко' 'Майкл Щур' ..., 'Петро Порошенко'\n",
      " 'Петро Порошенко' 'Петро Порошенко']  ---  0.430730478589\n"
     ]
    }
   ],
   "source": [
    "pred_MNB_test = clf_MNB.predict(test_set)\n",
    "score_MNB_test = accuracy_score(test_labels, pred_MNB_test)\n",
    "print(pred_MNB_test, \" --- \", score_MNB_test)"
   ]
  },
  {
   "cell_type": "markdown",
   "metadata": {},
   "source": [
    "### SVM "
   ]
  },
  {
   "cell_type": "code",
   "execution_count": 17,
   "metadata": {
    "collapsed": true
   },
   "outputs": [],
   "source": [
    "clf_svm = svm.SVC(C=4.0, kernel='linear')"
   ]
  },
  {
   "cell_type": "code",
   "execution_count": 18,
   "metadata": {
    "collapsed": false
   },
   "outputs": [
    {
     "data": {
      "text/plain": [
       "SVC(C=4.0, cache_size=200, class_weight=None, coef0=0.0,\n",
       "  decision_function_shape='ovr', degree=3, gamma='auto', kernel='linear',\n",
       "  max_iter=-1, probability=False, random_state=None, shrinking=True,\n",
       "  tol=0.001, verbose=False)"
      ]
     },
     "execution_count": 18,
     "metadata": {},
     "output_type": "execute_result"
    }
   ],
   "source": [
    "clf_svm.fit(train_set, train_labels)"
   ]
  },
  {
   "cell_type": "code",
   "execution_count": 19,
   "metadata": {
    "collapsed": false
   },
   "outputs": [
    {
     "data": {
      "text/plain": [
       "0.53256423702149969"
      ]
     },
     "execution_count": 19,
     "metadata": {},
     "output_type": "execute_result"
    }
   ],
   "source": [
    "clf_svm.score(train_set, train_labels)"
   ]
  },
  {
   "cell_type": "code",
   "execution_count": 20,
   "metadata": {
    "collapsed": false
   },
   "outputs": [
    {
     "name": "stdout",
     "output_type": "stream",
     "text": [
      "['Майкл Щур' 'Олег Ляшко' 'Майкл Щур' ..., 'Роман Скрипін' 'Роман Скрипін'\n",
      " 'Роман Скрипін']  ---  0.454817380353\n"
     ]
    }
   ],
   "source": [
    "pred_svm_test = clf_svm.predict(test_set)\n",
    "score_svm_test = accuracy_score(test_labels, pred_svm_test)\n",
    "print(pred_svm_test, \" --- \", score_svm_test)"
   ]
  },
  {
   "cell_type": "code",
   "execution_count": 21,
   "metadata": {
    "collapsed": false
   },
   "outputs": [],
   "source": [
    "new_tweet = 'Видео \\\"Дохід УЄФА від проведення Евро 2012\\\" (http://t.co/dm9o03AT) на @YouTube загружено.'"
   ]
  },
  {
   "cell_type": "code",
   "execution_count": 22,
   "metadata": {
    "collapsed": false
   },
   "outputs": [
    {
     "name": "stdout",
     "output_type": "stream",
     "text": [
      "['виде \" дохід уєф проведенн евр \" ( загружен .']\n"
     ]
    }
   ],
   "source": [
    "new_tweet = preprocess(new_tweet)\n",
    "print(new_tweet)"
   ]
  },
  {
   "cell_type": "code",
   "execution_count": 23,
   "metadata": {
    "collapsed": false
   },
   "outputs": [],
   "source": [
    "vectorized = [vect.transform([\" \".join(new_tweet)]).toarray()[0]]"
   ]
  },
  {
   "cell_type": "code",
   "execution_count": 24,
   "metadata": {
    "collapsed": false
   },
   "outputs": [
    {
     "data": {
      "text/plain": [
       "array(['Роман Скрипін'], \n",
       "      dtype='<U18')"
      ]
     },
     "execution_count": 24,
     "metadata": {},
     "output_type": "execute_result"
    }
   ],
   "source": [
    "clf_svm.predict(vectorized)"
   ]
  }
 ],
 "metadata": {
  "anaconda-cloud": {},
  "kernelspec": {
   "display_name": "Python [conda root]",
   "language": "python",
   "name": "conda-root-py"
  },
  "language_info": {
   "codemirror_mode": {
    "name": "ipython",
    "version": 3
   },
   "file_extension": ".py",
   "mimetype": "text/x-python",
   "name": "python",
   "nbconvert_exporter": "python",
   "pygments_lexer": "ipython3",
   "version": "3.5.2"
  }
 },
 "nbformat": 4,
 "nbformat_minor": 1
}
